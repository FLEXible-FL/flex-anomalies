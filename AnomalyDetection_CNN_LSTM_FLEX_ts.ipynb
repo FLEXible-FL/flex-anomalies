{
 "cells": [
  {
   "cell_type": "markdown",
   "metadata": {},
   "source": [
    "# Federated deep model with Flex for time series anomaly detection"
   ]
  },
  {
   "cell_type": "markdown",
   "metadata": {},
   "source": [
    "First we do all the imports needed."
   ]
  },
  {
   "cell_type": "code",
   "execution_count": 1,
   "metadata": {},
   "outputs": [
    {
     "name": "stderr",
     "output_type": "stream",
     "text": [
      "2023-12-15 15:11:43.093576: I tensorflow/core/platform/cpu_feature_guard.cc:193] This TensorFlow binary is optimized with oneAPI Deep Neural Network Library (oneDNN) to use the following CPU instructions in performance-critical operations:  AVX2 AVX512F AVX512_VNNI FMA\n",
      "To enable them in other operations, rebuild TensorFlow with the appropriate compiler flags.\n",
      "2023-12-15 15:11:43.506757: I tensorflow/core/util/port.cc:104] oneDNN custom operations are on. You may see slightly different numerical results due to floating-point round-off errors from different computation orders. To turn them off, set the environment variable `TF_ENABLE_ONEDNN_OPTS=0`.\n",
      "2023-12-15 15:11:43.579926: W tensorflow/compiler/xla/stream_executor/platform/default/dso_loader.cc:64] Could not load dynamic library 'libcudart.so.11.0'; dlerror: libcudart.so.11.0: cannot open shared object file: No such file or directory\n",
      "2023-12-15 15:11:43.579942: I tensorflow/compiler/xla/stream_executor/cuda/cudart_stub.cc:29] Ignore above cudart dlerror if you do not have a GPU set up on your machine.\n",
      "2023-12-15 15:11:44.586587: W tensorflow/compiler/xla/stream_executor/platform/default/dso_loader.cc:64] Could not load dynamic library 'libnvinfer.so.7'; dlerror: libnvinfer.so.7: cannot open shared object file: No such file or directory\n",
      "2023-12-15 15:11:44.586660: W tensorflow/compiler/xla/stream_executor/platform/default/dso_loader.cc:64] Could not load dynamic library 'libnvinfer_plugin.so.7'; dlerror: libnvinfer_plugin.so.7: cannot open shared object file: No such file or directory\n",
      "2023-12-15 15:11:44.586666: W tensorflow/compiler/tf2tensorrt/utils/py_utils.cc:38] TF-TRT Warning: Cannot dlopen some TensorRT libraries. If you would like to use Nvidia GPU with TensorRT, please make sure the missing libraries mentioned above are installed properly.\n"
     ]
    }
   ],
   "source": [
    "from flexanomalies.models import DeepCNN_LSTM\n",
    "from flexanomalies.utils.load_data import split_data, federate_data\n",
    "from flexanomalies.utils.metrics import print_metrics\n",
    "from flexanomalies.utils.process_scores import process_scores_with_percentile\n",
    "from flexanomalies.pool.primitives_deepmodel import (\n",
    "    build_server_model_ae,\n",
    "    copy_model_to_clients_ae,\n",
    "    train_ae,\n",
    "    set_aggregated_weights_ae,\n",
    "    weights_collector_ae,\n",
    ")\n",
    "from flexanomalies.pool.aggregators_favg import aggregate_ae\n",
    "from flexanomalies.utils.save_results import save_experiments_results\n",
    "from flex.pool import FlexPool\n",
    "from flexanomalies.utils.metrics import *\n",
    "import pandas as pd"
   ]
  },
  {
   "cell_type": "code",
   "execution_count": 2,
   "metadata": {},
   "outputs": [],
   "source": [
    "file_path = \"../flex-anomalies/flexanomalies/datasets/data/corrected.gz\"\n",
    "split_test = 0.3"
   ]
  },
  {
   "cell_type": "code",
   "execution_count": 3,
   "metadata": {},
   "outputs": [],
   "source": [
    "def encode_and_bind(original_dataframe, feature_to_encode):\n",
    "    dummies = pd.get_dummies(original_dataframe[[feature_to_encode]])\n",
    "    res = pd.concat([original_dataframe, dummies], axis=1)\n",
    "    res = res.drop([feature_to_encode], axis=1)\n",
    "    return res"
   ]
  },
  {
   "cell_type": "code",
   "execution_count": 13,
   "metadata": {},
   "outputs": [],
   "source": [
    "df = pd.read_csv(file_path, header=None)\n",
    "\n",
    "# process labels\n",
    "df.loc[df[41] != \"normal.\", 41] = 1\n",
    "df.loc[df[41] == \"normal.\", 41] = 0\n",
    "labels = df[41]\n",
    "df = df.drop([41], axis=1)\n",
    "\n",
    "features_to_encode = [1, 2, 3]\n",
    "df = df.drop(features_to_encode, axis=1)\n",
    "# for feature in features_to_encode:\n",
    "#     df = encode_and_bind(df, feature)"
   ]
  },
  {
   "cell_type": "code",
   "execution_count": 8,
   "metadata": {},
   "outputs": [],
   "source": [
    "model_params = {\n",
    "    \"epochs\": 5,\n",
    "    \"input_dim\": df.shape[1],\n",
    "    \"batch_size\": 32,\n",
    "    \"filters_cnn\": [32, 32, 32],\n",
    "    \"units_lstm\": [32, 32],\n",
    "    \"kernel_size\": [11, 11],\n",
    "    \"hidden_act\": [\"relu\", \"relu\"],\n",
    "    \"w_size\": 100,\n",
    "    \"n_pred\": 10,\n",
    "    \"contamination\": 0.1,\n",
    "}"
   ]
  },
  {
   "cell_type": "code",
   "execution_count": 9,
   "metadata": {},
   "outputs": [],
   "source": [
    "X = np.array(df.iloc[:, :].astype(float))\n",
    "y = np.array(labels)\n",
    "X_train, X_test, l_train, l_test = split_data(X, y, split_size=0.30)"
   ]
  },
  {
   "cell_type": "code",
   "execution_count": 10,
   "metadata": {},
   "outputs": [],
   "source": [
    "def create_windows(w_size, n_pred):  # Number of predictions into the future\n",
    "    X_train_windows = []\n",
    "    y_train_windows = []\n",
    "    X_test_windows = []\n",
    "    y_test_windows = []\n",
    "    l_test_windows = []\n",
    "\n",
    "    for i in range(0, len(X_train), n_pred):\n",
    "        temp_xtrain = X_train[i : w_size + i, :]\n",
    "        temp_ytrain = X_train[w_size + i : w_size + i + n_pred, :]\n",
    "        if len(temp_xtrain) < w_size or len(temp_ytrain) < n_pred:\n",
    "            break\n",
    "        X_train_windows.append(temp_xtrain)\n",
    "\n",
    "        y_train_windows.append(temp_ytrain)\n",
    "\n",
    "    # y_train_windows.append(y_train[i:i + n_pred].reshape(-1,1))\n",
    "\n",
    "    # Test\n",
    "    for i in range(0, len(X_test), n_pred):\n",
    "\n",
    "        temp_xtest = X_test[i : w_size + i, :]\n",
    "        temp_ytest = X_test[w_size + i : w_size + i + n_pred, :]\n",
    "        temp_ltest = l_test[w_size + i : w_size + i + n_pred]\n",
    "        if (\n",
    "            len(temp_xtest) < w_size\n",
    "            or len(temp_ytest) < n_pred\n",
    "            or len(temp_ltest) < n_pred\n",
    "        ):\n",
    "            break\n",
    "\n",
    "        X_test_windows.append(temp_xtest)\n",
    "\n",
    "        y_test_windows.append(temp_ytest)\n",
    "\n",
    "        l_test_windows.extend(temp_ltest)\n",
    "\n",
    "    # X_train_windows = X_train_windows[:-1]\n",
    "    # y_train_windows = y_train_windows[:-1]\n",
    "    # X_test_windows = X_test_windows[:-1]\n",
    "    # y_test_windows = y_test_windows[:-1]\n",
    "    # l_te_windows = l_test_windows[:-1]\n",
    "\n",
    "    print(\"X_train shape == {}.\".format(np.array(X_train_windows).shape))\n",
    "\n",
    "    print(\"y_train shape == {}.\".format(np.array(y_train_windows).shape))\n",
    "\n",
    "    print(\"X_test shape == {}.\".format(np.array(X_test_windows).shape))\n",
    "\n",
    "    print(\"y_test shape == {}.\".format(np.array(y_test_windows).shape))\n",
    "    print(\"l_test shape == {}.\".format(np.array(l_test_windows).shape))\n",
    "\n",
    "    return (\n",
    "        np.array(X_train_windows),\n",
    "        np.array(y_train_windows),\n",
    "        np.array(X_test_windows),\n",
    "        np.array(y_test_windows),\n",
    "        np.array(l_test_windows),\n",
    "    )"
   ]
  },
  {
   "cell_type": "code",
   "execution_count": 11,
   "metadata": {},
   "outputs": [
    {
     "name": "stdout",
     "output_type": "stream",
     "text": [
      "X_train shape == (21762, 100, 38).\n",
      "y_train shape == (21762, 10, 38).\n",
      "X_test shape == (9320, 100, 38).\n",
      "y_test shape == (9320, 10, 38).\n",
      "l_test shape == (93200,).\n"
     ]
    }
   ],
   "source": [
    "(\n",
    "    X_train_windows,\n",
    "    y_train_windows,\n",
    "    X_test_windows,\n",
    "    y_test_windows,\n",
    "    l_test_windows,\n",
    ") = create_windows(model_params[\"w_size\"], model_params[\"n_pred\"])\n"
   ]
  },
  {
   "cell_type": "code",
   "execution_count": 14,
   "metadata": {},
   "outputs": [
    {
     "name": "stderr",
     "output_type": "stream",
     "text": [
      "2023-12-15 15:13:20.130820: W tensorflow/compiler/xla/stream_executor/platform/default/dso_loader.cc:64] Could not load dynamic library 'libcuda.so.1'; dlerror: libcuda.so.1: cannot open shared object file: No such file or directory\n",
      "2023-12-15 15:13:20.131571: W tensorflow/compiler/xla/stream_executor/cuda/cuda_driver.cc:265] failed call to cuInit: UNKNOWN ERROR (303)\n",
      "2023-12-15 15:13:20.131601: I tensorflow/compiler/xla/stream_executor/cuda/cuda_diagnostics.cc:156] kernel driver does not appear to be running on this host (beatriz-IdeaPad-3-15ITL6): /proc/driver/nvidia/version does not exist\n",
      "2023-12-15 15:13:20.132227: I tensorflow/core/platform/cpu_feature_guard.cc:193] This TensorFlow binary is optimized with oneAPI Deep Neural Network Library (oneDNN) to use the following CPU instructions in performance-critical operations:  AVX2 AVX512F AVX512_VNNI FMA\n",
      "To enable them in other operations, rebuild TensorFlow with the appropriate compiler flags.\n"
     ]
    },
    {
     "name": "stdout",
     "output_type": "stream",
     "text": [
      "relu 32 11\n",
      "Model: \"sequential\"\n",
      "_________________________________________________________________\n",
      " Layer (type)                Output Shape              Param #   \n",
      "=================================================================\n",
      " conv1d (Conv1D)             (None, 90, 32)            13408     \n",
      "                                                                 \n",
      " max_pooling1d (MaxPooling1D  (None, 45, 32)           0         \n",
      " )                                                               \n",
      "                                                                 \n",
      " conv1d_1 (Conv1D)           (None, 35, 32)            11296     \n",
      "                                                                 \n",
      " max_pooling1d_1 (MaxPooling  (None, 17, 32)           0         \n",
      " 1D)                                                             \n",
      "                                                                 \n",
      " lstm (LSTM)                 (None, 17, 32)            8320      \n",
      "                                                                 \n",
      " lstm_1 (LSTM)               (None, 17, 32)            8320      \n",
      "                                                                 \n",
      " flatten (Flatten)           (None, 544)               0         \n",
      "                                                                 \n",
      " dense (Dense)               (None, 380)               207100    \n",
      "                                                                 \n",
      " reshape (Reshape)           (None, 10, 38)            0         \n",
      "                                                                 \n",
      "=================================================================\n",
      "Total params: 248,444\n",
      "Trainable params: 248,444\n",
      "Non-trainable params: 0\n",
      "_________________________________________________________________\n",
      "None\n"
     ]
    }
   ],
   "source": [
    "model = DeepCNN_LSTM(**model_params)\n"
   ]
  },
  {
   "cell_type": "code",
   "execution_count": 15,
   "metadata": {},
   "outputs": [],
   "source": [
    "flex_dataset = federate_data(5, X_train_windows, y_train_windows)"
   ]
  },
  {
   "cell_type": "code",
   "execution_count": 16,
   "metadata": {},
   "outputs": [],
   "source": [
    "pool = FlexPool.client_server_pool(\n",
    "    fed_dataset=flex_dataset,\n",
    "    server_id=\"cnn_lstm_server\",\n",
    "    init_func=build_server_model_ae,\n",
    "    model=model,\n",
    ")"
   ]
  },
  {
   "cell_type": "code",
   "execution_count": 37,
   "metadata": {},
   "outputs": [],
   "source": [
    "def evaluate_global_model(\n",
    "    model,\n",
    "    X,\n",
    "    y,\n",
    "    labels,\n",
    "    metrics=[\"Accuracy\", \"Precision\", \"F1\", \"Recall\", \"AUC_ROC\"],\n",
    "    threshold=None,\n",
    "):\n",
    "    prediction = model.model.predict(X)\n",
    "    print(prediction.shape)\n",
    "    print(y.shape)\n",
    "    print(np.mean((y - prediction), axis=2).shape)\n",
    "\n",
    "    d_scores = np.mean((y - prediction), axis=2).flatten()\n",
    "    if threshold is None:\n",
    "        threshold = process_scores_with_percentile(d_scores, 0.1)\n",
    "\n",
    "    l = (d_scores > threshold).astype(\"int\").ravel()\n",
    "    model.result_metrics_ = print_metrics(metrics, labels, l)"
   ]
  },
  {
   "cell_type": "code",
   "execution_count": 14,
   "metadata": {},
   "outputs": [],
   "source": [
    "# def evaluate_model2(\n",
    "#     model, X, y, labels, metrics=[\"Accuracy\", \"Precision\", \"F1\", \"Recall\", \"AUC_ROC\"]\n",
    "# ):\n",
    "#     labels_prediction = model.predict(X, y)\n",
    "#     print(len(labels_prediction))\n",
    "#     print_metrics(metrics, labels, labels_prediction)"
   ]
  },
  {
   "cell_type": "code",
   "execution_count": 28,
   "metadata": {},
   "outputs": [],
   "source": [
    "def evaluate_global_model_clients(client_flex_model, client_data, *args, **kwargs):\n",
    "\n",
    "    X_test, y_test = client_data.to_numpy()\n",
    "    p = client_flex_model[\"model\"].predict(X_test, y_test)\n",
    "    d_scores = np.linalg.norm(y_test - p, axis=2)\n",
    "    threshold = process_scores_with_percentile(d_scores, 0.1)\n",
    "    return threshold"
   ]
  },
  {
   "cell_type": "code",
   "execution_count": null,
   "metadata": {},
   "outputs": [],
   "source": [
    "for i in range(3):\n",
    "    print(f\"\\nRunning round: {i}\\n\")\n",
    "    pool.servers.map(copy_model_to_clients_ae, pool.clients)\n",
    "    pool.clients.map(train_ae)\n",
    "    pool.aggregators.map(weights_collector_ae, pool.clients)\n",
    "    pool.aggregators.map(aggregate_ae)\n",
    "    pool.aggregators.map(set_aggregated_weights_ae, pool.servers)\n",
    "output_model = pool.servers._models[\"cnn_lstm_server\"][\"model\"]\n",
    "\n",
    "# output_model.evaluate(X_test_windows, l_test)7"
   ]
  },
  {
   "cell_type": "code",
   "execution_count": null,
   "metadata": {},
   "outputs": [],
   "source": [
    "from flexanomalies.pool.aggregators_stats import aggregate_stats\n",
    "pool.clients.map(func = evaluate_global_model_clients)"
   ]
  },
  {
   "cell_type": "code",
   "execution_count": null,
   "metadata": {},
   "outputs": [],
   "source": [
    "evaluate_global_model(model, X_test_windows, y_test_windows, l_test_windows,threshold=aggregate_stats)"
   ]
  },
  {
   "cell_type": "code",
   "execution_count": null,
   "metadata": {},
   "outputs": [],
   "source": [
    "save_experiments_results(\n",
    "    \"cnn_lstm\",\n",
    "    output_model,\n",
    "    \"test_cnn_lstm_notebook\",\n",
    "    model_params,\n",
    "    \"shuttle.mat\",\n",
    "    5,\n",
    "    3,\n",
    "    0.3,\n",
    ")"
   ]
  },
  {
   "cell_type": "code",
   "execution_count": null,
   "metadata": {},
   "outputs": [],
   "source": []
  }
 ],
 "metadata": {
  "kernelspec": {
   "display_name": "Python 3.9.12 ('venv': venv)",
   "language": "python",
   "name": "python3"
  },
  "language_info": {
   "codemirror_mode": {
    "name": "ipython",
    "version": 3
   },
   "file_extension": ".py",
   "mimetype": "text/x-python",
   "name": "python",
   "nbconvert_exporter": "python",
   "pygments_lexer": "ipython3",
   "version": "3.9.12"
  },
  "orig_nbformat": 4,
  "vscode": {
   "interpreter": {
    "hash": "b1bb7960fd30cfaed40cb92889ad99bb2687045b6865895d20dad709adf6b60e"
   }
  }
 },
 "nbformat": 4,
 "nbformat_minor": 2
}
