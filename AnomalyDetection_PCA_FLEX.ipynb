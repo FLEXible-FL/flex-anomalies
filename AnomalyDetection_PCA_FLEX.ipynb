{
 "cells": [
  {
   "cell_type": "markdown",
   "metadata": {},
   "source": [
    "# Federated PCA  with Flex  for Anomaly Detection"
   ]
  },
  {
   "cell_type": "code",
   "execution_count": 1,
   "metadata": {},
   "outputs": [],
   "source": [
    "from flexanomalies.models import PCA_Anomaly\n",
    "from flexanomalies.utils.load_data import load_and_split_dot_mat, federate_data\n",
    "from flexanomalies.pool.decorators_pca import build_server_model_pca, copy_model_to_clients_pca,train_pca, aggregate_pca, set_aggregated_weights_pca, get_clients_weights_pca\n",
    "from flexanomalies.utils.save_results import save_experiments_results\n",
    "from flex.pool import FlexPool"
   ]
  },
  {
   "cell_type": "code",
   "execution_count": 2,
   "metadata": {},
   "outputs": [],
   "source": [
    "model_params = {\n",
    "        \"n_components\": 4,\n",
    "        \"contamination\": 0.1\n",
    "}"
   ]
  },
  {
   "cell_type": "code",
   "execution_count": 4,
   "metadata": {},
   "outputs": [],
   "source": [
    "X_train, X_test, y_train, y_test = load_and_split_dot_mat(\"flexanomalies/datasets/data/shuttle.mat\", 0.3)"
   ]
  },
  {
   "cell_type": "code",
   "execution_count": 5,
   "metadata": {},
   "outputs": [],
   "source": [
    "model = PCA_Anomaly(**model_params)"
   ]
  },
  {
   "cell_type": "code",
   "execution_count": 6,
   "metadata": {},
   "outputs": [],
   "source": [
    "flex_dataset = federate_data(5, X_train, y_train)"
   ]
  },
  {
   "cell_type": "code",
   "execution_count": 7,
   "metadata": {},
   "outputs": [],
   "source": [
    "pool = FlexPool.client_server_pool(\n",
    "        fed_dataset=flex_dataset,\n",
    "        server_id=\"pca_server\",\n",
    "        init_func=build_server_model_pca,\n",
    "        model=model,\n",
    "    )"
   ]
  },
  {
   "cell_type": "code",
   "execution_count": 8,
   "metadata": {},
   "outputs": [
    {
     "name": "stdout",
     "output_type": "stream",
     "text": [
      "\n",
      "Running round: 0\n",
      "\n",
      "Training model at client.\n",
      "Training model at client.\n",
      "Training model at client.\n",
      "Training model at client.\n",
      "Training model at client.\n",
      "\n",
      "Running round: 1\n",
      "\n",
      "Training model at client.\n",
      "Training model at client.\n",
      "Training model at client.\n",
      "Training model at client.\n",
      "Training model at client.\n",
      "\n",
      "Running round: 2\n",
      "\n",
      "Training model at client.\n",
      "Training model at client.\n",
      "Training model at client.\n",
      "Training model at client.\n",
      "Training model at client.\n",
      "Acc: 96.477% \n",
      "\n",
      "Precision: 0.666 \n",
      "\n",
      "F1score: 0.791 \n",
      "\n",
      "Recall: 0.973 \n",
      "\n",
      "AUC_ROC: 0.969 \n",
      "\n"
     ]
    }
   ],
   "source": [
    "for i in range(3):\n",
    "        print(f\"\\nRunning round: {i}\\n\")\n",
    "        pool.servers.map(copy_model_to_clients_pca, pool.clients)\n",
    "        pool.clients.map(train_pca)\n",
    "        pool.aggregators.map(get_clients_weights_pca, pool.clients)\n",
    "        pool.aggregators.map(aggregate_pca)\n",
    "        pool.aggregators.map(set_aggregated_weights_pca, pool.servers)\n",
    "output_model = pool.servers._models[\"pca_server\"][\"model\"]\n",
    "output_model.evaluate(X_test, y_test)"
   ]
  },
  {
   "cell_type": "code",
   "execution_count": 9,
   "metadata": {},
   "outputs": [
    {
     "data": {
      "text/plain": [
       "{'Accuracy': '96.477%',\n",
       " 'Precision': '0.666',\n",
       " 'F1': '0.791',\n",
       " 'Recall': '0.973',\n",
       " 'AUC_ROC': '0.969'}"
      ]
     },
     "execution_count": 9,
     "metadata": {},
     "output_type": "execute_result"
    }
   ],
   "source": [
    "output_model.result_metrics_"
   ]
  },
  {
   "cell_type": "code",
   "execution_count": 10,
   "metadata": {},
   "outputs": [],
   "source": [
    "save_experiments_results(\n",
    "    'PCA',\n",
    "    output_model,\n",
    "    'test_PCA_notebook',\n",
    "    model_params,\n",
    "    'shuttle.mat',\n",
    "    5,\n",
    "    3,\n",
    "    0.3,\n",
    ")"
   ]
  }
 ],
 "metadata": {
  "kernelspec": {
   "display_name": "Python 3.9.12 ('venv': venv)",
   "language": "python",
   "name": "python3"
  },
  "language_info": {
   "codemirror_mode": {
    "name": "ipython",
    "version": 3
   },
   "file_extension": ".py",
   "mimetype": "text/x-python",
   "name": "python",
   "nbconvert_exporter": "python",
   "pygments_lexer": "ipython3",
   "version": "3.9.12"
  },
  "orig_nbformat": 4,
  "vscode": {
   "interpreter": {
    "hash": "b1bb7960fd30cfaed40cb92889ad99bb2687045b6865895d20dad709adf6b60e"
   }
  }
 },
 "nbformat": 4,
 "nbformat_minor": 2
}
