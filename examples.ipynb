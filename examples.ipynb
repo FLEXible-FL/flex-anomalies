{
 "cells": [
  {
   "cell_type": "markdown",
   "metadata": {},
   "source": [
    "# Anomaly Detection with FLEXible "
   ]
  },
  {
   "cell_type": "markdown",
   "metadata": {},
   "source": [
    "## Import \n"
   ]
  },
  {
   "cell_type": "code",
   "execution_count": 45,
   "metadata": {},
   "outputs": [],
   "source": [
    "from flex.pool import init_server_model\n",
    "from flex.pool import FlexPool\n",
    "from flex.model import FlexModel\n",
    "from flex.pool import deploy_server_model\n",
    "from flex.data import FedDatasetConfig, FedDataDistribution, Dataset\n",
    "from app import split_data, load_data_ODDS,define_model_AutoEncoder\n",
    "import numpy as np \n",
    "from copy import deepcopy\n",
    "import tensorflow as tf\n"
   ]
  },
  {
   "cell_type": "markdown",
   "metadata": {},
   "source": [
    "## Load data"
   ]
  },
  {
   "cell_type": "code",
   "execution_count": 18,
   "metadata": {},
   "outputs": [],
   "source": [
    "data_path = \"datasets/shuttle.mat\""
   ]
  },
  {
   "cell_type": "code",
   "execution_count": 19,
   "metadata": {},
   "outputs": [],
   "source": [
    "def load_data():\n",
    "    df = load_data_ODDS(data_path)    # shape = (n_samples,2), n_samples = samples number  and 2: X(list of attributes by sample), y (sample label)\n",
    "    X = np.array(df['X'].tolist())\n",
    "    y = np.array(df['y'].tolist())\n",
    "    return (X,y)\n"
   ]
  },
  {
   "cell_type": "markdown",
   "metadata": {},
   "source": [
    "## Federated Data "
   ]
  },
  {
   "cell_type": "code",
   "execution_count": 34,
   "metadata": {},
   "outputs": [],
   "source": [
    "\n",
    "def federated_data(X,y,n_clients,split_size):\n",
    "    X_train, X_test, y_train, y_test = split_data(X,y,split_size)\n",
    "    train_data = Dataset.from_array(X_train, y_train)\n",
    "    config = FedDatasetConfig(seed=0)\n",
    "    config.n_nodes = n_clients\n",
    "    config.replacement = False # ensure that clients do not share any data\n",
    "    config.node_ids = [\"client\"+ str(i+1) for i in range(n_clients)] # Optional\n",
    "    flex_dataset = FedDataDistribution.from_config(centralized_data=train_data, config=config)\n",
    "    return flex_dataset\n"
   ]
  },
  {
   "cell_type": "markdown",
   "metadata": {},
   "source": [
    "## Define, build, deploy and train model"
   ]
  },
  {
   "cell_type": "code",
   "execution_count": 46,
   "metadata": {},
   "outputs": [],
   "source": [
    "def define_model():\n",
    "    X,y = load_data()\n",
    "    input_dim = X.shape[1]\n",
    "    model =  define_model_AutoEncoder(input_dim)\n",
    "    return model\n",
    "\n",
    "\n",
    "@init_server_model\n",
    "def build_server_model():\n",
    "    flex_model = FlexModel()\n",
    "    flex_model[\"model\"] = define_model()\n",
    "    return flex_model\n",
    "\n",
    "\n",
    "# @deploy_server_model\n",
    "# def copy_server_model_to_clients(server_flex_model: FlexModel):\n",
    "#     return deepcopy(server_flex_model)\n",
    "\n",
    "@deploy_server_model\n",
    "def copy_model_to_clients(server_flex_model):\n",
    "    client_flex_model = FlexModel()\n",
    "    weights = server_flex_model[\"model\"].get_weights()\n",
    "    model = tf.keras.models.clone_model(server_flex_model[\"model\"])\n",
    "    model.set_weights(weights)\n",
    "    model.compile(\n",
    "        optimizer=server_flex_model[\"optimizer\"],\n",
    "        loss=server_flex_model[\"loss\"],\n",
    "        metrics=server_flex_model[\"metrics\"],\n",
    "    )\n",
    "    client_flex_model[\"model\"] = model\n",
    "    return client_flex_model\n",
    "    \n",
    "def train(client_model, client_data):\n",
    "    print(\"Training model at client.\")\n",
    "    print(client_model)\n",
    "    model = client_model['model']\n",
    "    X_data, y_data = client_data.to_numpy()\n",
    "    history = model.fit(X_data, y_data)"
   ]
  },
  {
   "cell_type": "markdown",
   "metadata": {},
   "source": [
    "## Collect Weights"
   ]
  },
  {
   "cell_type": "code",
   "execution_count": 38,
   "metadata": {},
   "outputs": [],
   "source": [
    "def collect_weights(aggregator_model, clients_model, **kwargs):\n",
    "    print(\"Collecting weights.\")\n",
    "    if 'weights' not in aggregator_model:\n",
    "        aggregator_model['weights'] = []\n",
    "    for k in clients_model:\n",
    "        client_weights = clients_model[k]['model'].get_weights()\n",
    "        aggregator_model['weights'].append(client_weights)"
   ]
  },
  {
   "cell_type": "markdown",
   "metadata": {},
   "source": [
    "## Aggregate and Set Weights"
   ]
  },
  {
   "cell_type": "code",
   "execution_count": 39,
   "metadata": {},
   "outputs": [],
   "source": [
    "def aggregate_weights(agg_model, *args):\n",
    "    print(\"Aggregating weights\")\n",
    "    averaged_weights = np.mean(np.array(agg_model['weights'], dtype=object), axis=0)\n",
    "    agg_model[\"model\"].set_weights(averaged_weights)\n",
    "    agg_model[\"weights\"] = []"
   ]
  },
  {
   "cell_type": "code",
   "execution_count": 40,
   "metadata": {},
   "outputs": [],
   "source": [
    "def deploy_global_model_to_clients(server_model, clients_models, *args, **kwargs):\n",
    "    print(\"Deploying the global model on the clients.\")\n",
    "    aggregated_weights = server_model['model'].get_weights()\n",
    "    print(clients_models)\n",
    "    for client_model in clients_models:\n",
    "        clients_models[client_model]['model'].set_weights(aggregated_weights)"
   ]
  },
  {
   "cell_type": "markdown",
   "metadata": {},
   "source": [
    "## Evaluate model"
   ]
  },
  {
   "cell_type": "code",
   "execution_count": 41,
   "metadata": {},
   "outputs": [],
   "source": [
    "def evaluate_model(model, data, *args, **kwargs):\n",
    "    model = model['model']\n",
    "    if data is not None:\n",
    "        print(\"Evaluating model at client.\")\n",
    "        print(f\"Results at client on client's data:\")\n",
    "        model.evaluate(kwargs['test_examples'], kwargs['test_labels'])\n",
    "        \n",
    "    else:\n",
    "        print(\"Evaluating model at server\")\n",
    "        model.evaluate(kwargs['test_examples'], kwargs['test_labels'])\n",
    "    \n",
    "\n",
    "\n"
   ]
  },
  {
   "cell_type": "code",
   "execution_count": 48,
   "metadata": {},
   "outputs": [],
   "source": [
    "def train_n_rounds(X_test,y_test,flex_dataset,n_rounds):\n",
    "    pool = FlexPool.client_server_pool(fed_dataset=flex_dataset, init_func=build_server_model)\n",
    "    pool.servers.map(copy_model_to_clients, pool.clients)\n",
    "    print(pool.clients)\n",
    "    for i in range(n_rounds):\n",
    "        print(f\"\\nRunning round: {i}\\n\")\n",
    "        pool.clients.map(train)\n",
    "        pool.clients.map(evaluate_model, test_examples=X_test, test_labels=y_test)\n",
    "        pool.aggregators.map(collect_weights, pool.clients)\n",
    "        pool.aggregators.map(aggregate_weights)\n",
    "        pool.servers.map(deploy_global_model_to_clients, pool.clients)\n",
    "        pool.servers.map(evaluate_model, test_examples=X_test, test_labels=y_test)\n",
    "\n"
   ]
  },
  {
   "cell_type": "code",
   "execution_count": null,
   "metadata": {},
   "outputs": [],
   "source": [
    "\n",
    "X,y = load_data()\n",
    "split_size = 0.3\n",
    "flex_dataset = federated_data(X,y,3,split_size)\n",
    "X_train, X_test, y_train, y_test = split_data(X,y,split_size)\n",
    "test_data = Dataset.from_array(X_test, y_test)\n",
    "train_n_rounds( X_test, y_test,flex_dataset, n_rounds=4)\n"
   ]
  },
  {
   "cell_type": "code",
   "execution_count": null,
   "metadata": {},
   "outputs": [],
   "source": [
    "p = FlexPool.client_server_pool(flex_dataset, init_func = build_server_model)\n",
    "\n",
    "clients = p.clients\n",
    "servers = p.servers\n",
    "aggregators = p.aggregators\n",
    "\n",
    "print(f\"Number of nodes in the pool {len(p)}: {len(servers)} servers plus {len(clients)} clients. The server is also a aggregators\")\n",
    "print(f\"Server node is indentified by {servers.actor_ids}\")\n",
    "print(f\"Client nodes are identified by {clients.actor_ids}\")\n"
   ]
  }
 ],
 "metadata": {
  "kernelspec": {
   "display_name": "Python 3.9.12 ('venv': venv)",
   "language": "python",
   "name": "python3"
  },
  "language_info": {
   "codemirror_mode": {
    "name": "ipython",
    "version": 3
   },
   "file_extension": ".py",
   "mimetype": "text/x-python",
   "name": "python",
   "nbconvert_exporter": "python",
   "pygments_lexer": "ipython3",
   "version": "3.9.12"
  },
  "orig_nbformat": 4,
  "vscode": {
   "interpreter": {
    "hash": "b1bb7960fd30cfaed40cb92889ad99bb2687045b6865895d20dad709adf6b60e"
   }
  }
 },
 "nbformat": 4,
 "nbformat_minor": 2
}
